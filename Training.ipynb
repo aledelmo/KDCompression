{
 "cells": [
  {
   "cell_type": "code",
   "execution_count": null,
   "metadata": {
    "pycharm": {
     "name": "#%%\n"
    }
   },
   "outputs": [],
   "source": [
    "%load_ext autoreload\n",
    "%autoreload 2\n",
    "\n",
    "import torch\n",
    "import torch.optim as optim\n",
    "from torchvision import transforms\n",
    "import network\n",
    "\n",
    "import os.path\n",
    "\n",
    "import sys\n",
    "assert sys.version_info.major == 3, 'Not running on Python 3'\n",
    "\n",
    "from IPython.core.interactiveshell import InteractiveShell\n",
    "InteractiveShell.ast_node_interactivity = \"all\"\n",
    "\n",
    "import logging\n",
    "logging.basicConfig(level=logging.INFO, stream=sys.stdout)"
   ]
  },
  {
   "cell_type": "code",
   "execution_count": null,
   "metadata": {
    "pycharm": {
     "name": "#%%\n"
    }
   },
   "outputs": [],
   "source": [
    "epochs = 50\n",
    "batch_size = 4\n",
    "patch_size = (96, 48, 96)\n",
    "session_num = 0\n",
    "ds_folder = \"~/imag2/IMAG2_DL/APMRI-DNN/Dataset/All\"\n",
    "\n",
    "device = \"cuda\" if torch.cuda.is_available() else \"cpu\"\n",
    "print(\"Using {} device\".format(device))"
   ]
  },
  {
   "cell_type": "code",
   "execution_count": null,
   "metadata": {
    "pycharm": {
     "name": "#%%\n"
    }
   },
   "outputs": [],
   "source": [
    "net = network.net.UNet3D()\n",
    "loss_fn = network.loss.DiceLoss()\n",
    "metric_fn = network.metrics.DiceScore()\n",
    "optimizer = optim.Adam(net.parameters(), lr=4e-4)\n",
    "\n",
    "tsfrms = transforms.Compose([network.ds_transforms.Normalize(),\n",
    "                             network.ds_transforms.CropRandomPatch(patch_size),\n",
    "                             network.ds_transforms.ToTensor()])\n",
    "ds = network.dataset.MRIDataset(ds_folder, transform = tsfrms)\n",
    "\n",
    "ds_train, ds_val = network.dataset.train_val_dataset(ds, 0.2)\n",
    "\n",
    "ds_train = torch.utils.data.DataLoader(ds_train, batch_size=batch_size, shuffle=True, num_workers=4, pin_memory=True)\n",
    "ds_val = torch.utils.data.DataLoader(ds_val, batch_size=batch_size, shuffle=True, num_workers=4, pin_memory=True)"
   ]
  },
  {
   "cell_type": "code",
   "execution_count": null,
   "metadata": {
    "pycharm": {
     "name": "#%%\n"
    }
   },
   "outputs": [],
   "source": [
    "run_name = 'run-{}'.format(session_num)\n",
    "print('\\n\\n--- Starting trial: {}'.format(run_name))\n",
    "run_logdir = 'tf_logs/hparam_tuning/' + run_name\n",
    "\n",
    "net.to(device, non_blocking=True)\n",
    "\n",
    "training = network.training.Training(net, optimizer, loss_fn, metric_fn, ds_train, ds_val, run_logdir)\n",
    "training.train_model(epochs=epochs, device=device)\n",
    "training.save_model(path=os.path.join(run_logdir, 'KD.pt'))"
   ]
  }
 ],
 "metadata": {
  "kernelspec": {
   "display_name": "Python (KDCompression)",
   "language": "python",
   "name": "kdcompression"
  },
  "language_info": {
   "codemirror_mode": {
    "name": "ipython",
    "version": 3
   },
   "file_extension": ".py",
   "mimetype": "text/x-python",
   "name": "python",
   "nbconvert_exporter": "python",
   "pygments_lexer": "ipython3",
   "version": "3.9.2"
  }
 },
 "nbformat": 4,
 "nbformat_minor": 1
}