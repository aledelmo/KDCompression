{
 "cells": [
  {
   "cell_type": "code",
   "execution_count": null,
   "metadata": {
    "pycharm": {
     "name": "#%%\n"
    }
   },
   "outputs": [],
   "source": [
    "%load_ext autoreload\n",
    "%autoreload 2\n",
    "%load_ext tensorboard\n",
    "\n",
    "import gc\n",
    "gc.collect()\n",
    "\n",
    "import torch\n",
    "import torch.optim as optim\n",
    "from torchvision import transforms\n",
    "\n",
    "torch.cuda.empty_cache()\n",
    "torch.cuda.reset_peak_memory_stats()\n",
    "torch.cuda.synchronize()\n",
    "\n",
    "from network.net import UNet3D\n",
    "from network.loss import KDLoss\n",
    "from network.metrics import DiceScore\n",
    "from network.dataset import train_val_dataset, MRIDataset\n",
    "from network.ds_transforms import Normalize, CropRandomPatch, ToTensor\n",
    "from network.training import Training\n",
    "\n",
    "import os.path\n",
    "\n",
    "import sys\n",
    "assert sys.version_info.major == 3, 'Not running on Python 3'\n",
    "\n",
    "from IPython.core.interactiveshell import InteractiveShell\n",
    "InteractiveShell.ast_node_interactivity = \"all\"\n",
    "\n",
    "import logging\n",
    "logging.basicConfig(level=logging.INFO, stream=sys.stdout)"
   ]
  },
  {
   "cell_type": "code",
   "execution_count": null,
   "metadata": {
    "pycharm": {
     "name": "#%%\n"
    }
   },
   "outputs": [],
   "source": [
    "!rm -rf ./logs/ \n",
    "\n",
    "epochs = 50\n",
    "batch_size = 4\n",
    "patch_size = (96, 48, 96)\n",
    "session_num = 0\n",
    "ds_path = \"/home/imag2/IMAG2_DL/KDCompression/Dataset/ds.h5\"\n",
    "\n",
    "device = \"cuda\" if torch.cuda.is_available() else \"cpu\"\n",
    "print(\"Using {} device\".format(device))"
   ]
  },
  {
   "cell_type": "code",
   "execution_count": null,
   "metadata": {
    "pycharm": {
     "name": "#%%\n"
    },
    "scrolled": true
   },
   "outputs": [],
   "source": [
    "net = UNet3D()\n",
    "net.to(device, non_blocking=True)\n",
    "\n",
    "loss_fn = KDLoss()\n",
    "metric_fn = DiceScore()\n",
    "optimizer = optim.Adam(net.parameters(), lr=4e-4)\n",
    "\n",
    "tsfrms = transforms.Compose([Normalize(),\n",
    "                             CropRandomPatch(patch_size),\n",
    "                             ToTensor()])\n",
    "ds = MRIDataset(ds_path, transform = tsfrms)\n",
    "\n",
    "ds_train, ds_val = train_val_dataset(ds, 0.2)\n",
    "\n",
    "ds_train = torch.utils.data.DataLoader(ds_train, batch_size=batch_size, shuffle=True,\n",
    "                                       num_workers=4, pin_memory=True, prefetch_factor=10)\n",
    "ds_val = torch.utils.data.DataLoader(ds_val, batch_size=batch_size, shuffle=True,\n",
    "                                     num_workers=4,pin_memory=True, prefetch_factor=10)"
   ]
  },
  {
   "cell_type": "code",
   "execution_count": null,
   "metadata": {},
   "outputs": [],
   "source": [
    "%tensorboard --logdir ./logs/ --host 0.0.0.0"
   ]
  },
  {
   "cell_type": "code",
   "execution_count": null,
   "metadata": {
    "pycharm": {
     "name": "#%%\n"
    },
    "scrolled": false
   },
   "outputs": [],
   "source": [
    "run_name = 'run-{}'.format(session_num)\n",
    "print('\\n\\n--- Starting trial: {}'.format(run_name))\n",
    "run_logdir = 'logs/' + run_name\n",
    "\n",
    "training = Training(net, optimizer, loss_fn, metric_fn, ds_train, ds_val, run_logdir)\n",
    "training.train_model(epochs=epochs, device=device)\n",
    "training.save_model(path=os.path.join(run_logdir, 'KD.pt'))\n",
    "\n",
    "torch.cuda.synchronize()"
   ]
  }
 ],
 "metadata": {
  "kernelspec": {
   "display_name": "KDCompression",
   "language": "python",
   "name": "kdcompression"
  },
  "language_info": {
   "codemirror_mode": {
    "name": "ipython",
    "version": 3
   },
   "file_extension": ".py",
   "mimetype": "text/x-python",
   "name": "python",
   "nbconvert_exporter": "python",
   "pygments_lexer": "ipython3",
   "version": "3.9.2"
  }
 },
 "nbformat": 4,
 "nbformat_minor": 1
}
