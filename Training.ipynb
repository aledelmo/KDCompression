{
 "cells": [
  {
   "cell_type": "code",
   "execution_count": null,
   "metadata": {
    "pycharm": {
     "name": "#%%\n"
    }
   },
   "outputs": [],
   "source": [
    "%load_ext autoreload\n",
    "%autoreload 2\n",
    "\n",
    "import os.path\n",
    "\n",
    "import gc\n",
    "gc.collect()\n",
    "\n",
    "import torch\n",
    "import torch.optim as optim\n",
    "from torchvision import transforms\n",
    "import torch.autograd.profiler as profiler\n",
    "\n",
    "%load_ext tensorboard\n",
    "\n",
    "torch.cuda.empty_cache()\n",
    "torch.cuda.reset_peak_memory_stats()\n",
    "torch.multiprocessing.set_start_method('spawn')\n",
    "torch.backends.cudnn.deterministic = False\n",
    "torch.backends.cudnn.benchmark = True\n",
    "\n",
    "from network.net import UNet3D, UNet3DMulti\n",
    "from network.loss import KDLoss, GeneralizedKDLoss\n",
    "from network.metrics import DiceScore, DiceScoreMultiClass\n",
    "from network.dataset import train_val_dataset, MRIDataset\n",
    "from network.ds_transforms import ToTensor, DataAugmentation, RandomCropCollate\n",
    "from network.training import Training\n",
    "\n",
    "import sys\n",
    "assert sys.version_info.major == 3, 'Not running on Python 3'\n",
    "\n",
    "from IPython.core.interactiveshell import InteractiveShell\n",
    "InteractiveShell.ast_node_interactivity = \"all\"\n",
    "\n",
    "import logging\n",
    "logging.basicConfig(level=logging.INFO, stream=sys.stdout)"
   ]
  },
  {
   "cell_type": "code",
   "execution_count": null,
   "metadata": {
    "pycharm": {
     "name": "#%%\n"
    }
   },
   "outputs": [],
   "source": [
    "!rm -rf ./logs/ \n",
    "\n",
    "epochs = 200\n",
    "batch_size = 16\n",
    "patch_size = (96, 48, 96)\n",
    "patch_per_image = 18\n",
    "lr = 1.6e-3\n",
    "multi_class = True\n",
    "session_num = 0\n",
    "ds_path = \"/home/imag2/IMAG2_DL/KDCompression/Dataset/ds.npy\"\n",
    "profile = False\n",
    "mode = \"Train\" # [\"Train\", \"RestoreAndSave\"]\n",
    "load_checkpoint = False\n",
    "\n",
    "device = \"cuda\" if torch.cuda.is_available() else \"cpu\"\n",
    "print(\"Using {} device\".format(device))"
   ]
  },
  {
   "cell_type": "code",
   "execution_count": null,
   "metadata": {
    "pycharm": {
     "name": "#%%\n"
    },
    "scrolled": true
   },
   "outputs": [],
   "source": [
    "net = UNet3DMulti()\n",
    "net.to(device, non_blocking=True)\n",
    "\n",
    "loss_fn = GeneralizedKDLoss()\n",
    "metric_fn = DiceScoreMultiClass()\n",
    "optimizer = optim.Adam(net.parameters(), lr=lr)\n",
    "\n",
    "tsfrms = transforms.Compose([ToTensor(hdf5=False)])\n",
    "ds = MRIDataset(ds_path, transform=tsfrms)\n",
    "\n",
    "ds_train, ds_val = train_val_dataset(ds, 0.2)\n",
    "\n",
    "collate_fn_train = RandomCropCollate(patch_size)\n",
    "sampler_train = torch.utils.data.RandomSampler(ds_train, replacement=True)\n",
    "ds_train = torch.utils.data.DataLoader(ds_train, batch_size=batch_size,num_workers=0, sampler=sampler_train,\n",
    "                                       collate_fn=lambda b: collate_fn_train.collate(b, device, multi_class))\n",
    "\n",
    "collate_fn_test = RandomCropCollate(patch_size)\n",
    "sampler_test = torch.utils.data.SequentialSampler(ds_val)\n",
    "ds_val = torch.utils.data.DataLoader(ds_val, batch_size=batch_size, num_workers=0, sampler=sampler_test,\n",
    "                                     collate_fn=lambda b: collate_fn_test.collate(b, device, multi_class))"
   ]
  },
  {
   "cell_type": "code",
   "execution_count": null,
   "metadata": {
    "scrolled": true
   },
   "outputs": [],
   "source": [
    "%tensorboard --logdir ./logs/ --host 0.0.0.0"
   ]
  },
  {
   "cell_type": "code",
   "execution_count": null,
   "metadata": {
    "pycharm": {
     "name": "#%%\n"
    },
    "scrolled": false
   },
   "outputs": [],
   "source": [
    "run_name = 'run-{}'.format(session_num)\n",
    "print('\\n\\n--- Starting trial: {}'.format(run_name))\n",
    "run_logdir = 'logs/' + run_name\n",
    "ckpt_dir = 'ckpt/' + run_name\n",
    "\n",
    "training = Training(net, optimizer, loss_fn, metric_fn, ds_train, ds_val, patch_size, run_logdir, ckpt_dir)\n",
    "\n",
    "if mode == \"Train\":\n",
    "    if profile:\n",
    "        with profiler.profile(record_shapes=True, profile_memory=True, use_cuda=True) as prof:\n",
    "            training.train_model(epochs=epochs, patch_per_image=patch_per_image)\n",
    "            print(prof.key_averages().table(sort_by=\"cpu_time_total\"))\n",
    "            print(prof.key_averages().table(sort_by=\"cpu_memory_usage\"))\n",
    "            prof.export_chrome_trace('trace.json')\n",
    "    else:\n",
    "        training.train_model(epochs=epochs, patch_per_image=patch_per_image)\n",
    "\n",
    "    training.save_model(path=os.path.join(run_logdir, 'KD.pt'))\n",
    "elif mode == \"RestoreAndSave\":\n",
    "    training.restore_from_checkpoint()\n",
    "    training.save_model(path=os.path.join(run_logdir, 'KD.pt'))\n",
    "\n",
    "ds.close()"
   ]
  }
 ],
 "metadata": {
  "kernelspec": {
   "display_name": "Python 3 (ipykernel)",
   "language": "python",
   "name": "python3"
  },
  "language_info": {
   "codemirror_mode": {
    "name": "ipython",
    "version": 3
   },
   "file_extension": ".py",
   "mimetype": "text/x-python",
   "name": "python",
   "nbconvert_exporter": "python",
   "pygments_lexer": "ipython3",
   "version": "3.9.6"
  }
 },
 "nbformat": 4,
 "nbformat_minor": 1
}
