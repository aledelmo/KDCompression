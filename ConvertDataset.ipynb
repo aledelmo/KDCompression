{
 "cells": [
  {
   "cell_type": "code",
   "execution_count": 1,
   "metadata": {},
   "outputs": [],
   "source": [
    "%load_ext autoreload\n",
    "%autoreload 2\n",
    "\n",
    "import h5py\n",
    "import glob\n",
    "import numpy as np\n",
    "import nibabel as nib\n",
    "\n",
    "import os.path\n",
    "\n",
    "import sys\n",
    "assert sys.version_info.major == 3, 'Not running on Python 3'\n",
    "\n",
    "from IPython.core.interactiveshell import InteractiveShell\n",
    "InteractiveShell.ast_node_interactivity = \"all\"\n",
    "\n",
    "import logging\n",
    "logging.basicConfig(level=logging.INFO, stream=sys.stdout)"
   ]
  },
  {
   "cell_type": "code",
   "execution_count": 2,
   "metadata": {
    "pycharm": {
     "name": "#%%"
    }
   },
   "outputs": [],
   "source": [
    "ds_path = \"/home/imag2/IMAG2_DL/KDCompression/Dataset/ds.hdf5\"\n",
    "\n",
    "img_dir = \"/home/imag2/IMAG2_DL/APMRI-DNN/Dataset/All\"\n",
    "teacher_dir = \"/home/imag2/IMAG2_DL/KDCompression/Dataset/Teacher/\"\n",
    "\n",
    "imgs = sorted(glob.glob(os.path.join(img_dir, '*[tT]2*.nii.gz')))\n",
    "masks = sorted(glob.glob(os.path.join(img_dir, '*[mM]ask*.nii.gz')))\n",
    "labels = sorted(glob.glob(os.path.join(img_dir, '*[sS]egmentation*.nii.gz')))\n",
    "teacher_labels = sorted(glob.glob(os.path.join(teacher_dir, '*[tT]eacher*.nii.gz')))"
   ]
  },
  {
   "cell_type": "code",
   "execution_count": 3,
   "metadata": {},
   "outputs": [],
   "source": [
    "def load_nii(f_name):\n",
    "    img = nib.load(f_name)\n",
    "    canonical_img = nib.as_closest_canonical(img)\n",
    "    return canonical_img.get_fdata()"
   ]
  },
  {
   "cell_type": "code",
   "execution_count": null,
   "metadata": {},
   "outputs": [],
   "source": [
    "img = []\n",
    "mask = []\n",
    "label = []\n",
    "teacher_label = []\n",
    "for i, im in enumerate(imgs[:2]):\n",
    "    im =load_nii(im)\n",
    "    #mask.append(load_nii(m))\n",
    "    #label.append(load_nii(l))\n",
    "    #teacher_label.append(load_nii(t))\n",
    "\n",
    "\n",
    "with h5py.File(ds_path, \"a\") as f:\n",
    "    student = f.create_group(\"student\")\n",
    "    teacher = f.create_group(\"teacher\")\n",
    "    imgs = student.create_group(\"img\")\n",
    "    masks = student.create_group(\"mask\")\n",
    "    label = student.create_group(\"label\")"
   ]
  },
  {
   "cell_type": "code",
   "execution_count": null,
   "metadata": {},
   "outputs": [],
   "source": [
    "with h5py.File(ds_path, 'a', libver='latest') as f:\n",
    "    for idx, arr in enumerate(imgs):\n",
    "        arr = load_nii(arr)\n",
    "        dset = f.create_dataset(str(idx), shape=arr.shape, data=arr, chunks=arr.shape,\n",
    "                                compression='gzip', compression_opts=9)\n",
    "        "
   ]
  },
  {
   "cell_type": "code",
   "execution_count": null,
   "metadata": {},
   "outputs": [],
   "source": []
  }
 ],
 "metadata": {
  "kernelspec": {
   "display_name": "KDCompression",
   "language": "python",
   "name": "kdcompression"
  },
  "language_info": {
   "codemirror_mode": {
    "name": "ipython",
    "version": 3
   },
   "file_extension": ".py",
   "mimetype": "text/x-python",
   "name": "python",
   "nbconvert_exporter": "python",
   "pygments_lexer": "ipython3",
   "version": "3.9.2"
  }
 },
 "nbformat": 4,
 "nbformat_minor": 1
}
