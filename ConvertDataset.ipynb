{
 "cells": [
  {
   "cell_type": "code",
   "execution_count": null,
   "metadata": {},
   "outputs": [],
   "source": [
    "%load_ext autoreload\n",
    "%autoreload 2\n",
    "\n",
    "import h5py\n",
    "h5py.get_config().track_order = True\n",
    "\n",
    "import pickle\n",
    "import glob\n",
    "import numpy as np\n",
    "import nibabel as nib\n",
    "from scipy.ndimage import find_objects\n",
    "\n",
    "import os.path\n",
    "from tqdm import tqdm\n",
    "\n",
    "import sys\n",
    "assert sys.version_info.major == 3, 'Not running on Python 3'\n",
    "\n",
    "from IPython.utils import io\n",
    "from IPython.core.interactiveshell import InteractiveShell\n",
    "InteractiveShell.ast_node_interactivity = \"all\"\n",
    "\n",
    "import logging\n",
    "logging.basicConfig(level=logging.INFO, stream=sys.stdout)"
   ]
  },
  {
   "cell_type": "code",
   "execution_count": null,
   "metadata": {
    "pycharm": {
     "name": "#%%"
    }
   },
   "outputs": [],
   "source": [
    "ds_path = \"/home/imag2/IMAG2_DL/KDCompression/Dataset/ds\"\n",
    "\n",
    "img_dir = \"/home/imag2/IMAG2_DL/APMRI-DNN/Dataset/All\"\n",
    "teacher_dir = \"/home/imag2/IMAG2_DL/KDCompression/Dataset/Teacher/\"\n",
    "\n",
    "imgs_fpath = sorted(glob.glob(os.path.join(img_dir, '*[tT]2*.nii.gz')))\n",
    "masks_fpath = sorted(glob.glob(os.path.join(img_dir, '*[mM]ask*.nii.gz')))\n",
    "labels_fpath = sorted(glob.glob(os.path.join(img_dir, '*[sS]egmentation*.nii.gz')))\n",
    "teacher_fpath = sorted(glob.glob(os.path.join(teacher_dir, '*[tT]eacher*.nii.gz')))"
   ]
  },
  {
   "cell_type": "code",
   "execution_count": null,
   "metadata": {
    "pycharm": {
     "name": "#%%\n"
    }
   },
   "outputs": [],
   "source": [
    "def load_nii(f_name):\n",
    "    img = nib.load(f_name)\n",
    "    canonical_img = nib.as_closest_canonical(img)\n",
    "    return canonical_img.get_fdata()\n",
    "\n",
    "def preprocess(img, mask=None, normalize=False, dtype=np.float32, forth_dim=False):\n",
    "    if mask is not None:\n",
    "        if forth_dim:\n",
    "            img *= np.expand_dims(mask, axis=-1)\n",
    "        else:\n",
    "            img *= mask\n",
    "        \n",
    "    if normalize:\n",
    "        mean = np.mean(img)\n",
    "        std = np.std(img)\n",
    "        if std > 0:\n",
    "            img = (img - mean) / std\n",
    "        else:\n",
    "            img *= 0.\n",
    "    \n",
    "    if forth_dim:\n",
    "        img = np.expand_dims(img.transpose((3, 2, 0, 1)), axis=0)\n",
    "    else:\n",
    "        img = np.expand_dims(img.transpose((2, 0, 1)), axis=0)\n",
    "    return img.astype(dtype)"
   ]
  },
  {
   "cell_type": "code",
   "execution_count": null,
   "metadata": {
    "pycharm": {
     "name": "#%%\n"
    }
   },
   "outputs": [],
   "source": [
    "with h5py.File(ds_path + '.h5', 'a', libver='latest') as f:\n",
    "    idx = 0\n",
    "    with tqdm(total=len(imgs_fpath), desc=\"Compressing\", unit=\"sample\") as pbar:\n",
    "        for i, (img, mask, label, teacher) in enumerate(zip(imgs_fpath, masks_fpath, labels_fpath, teacher_fpath)):\n",
    "            mask = load_nii(mask)\n",
    "            with io.capture_output() as captured:\n",
    "                arr = load_nii(label)\n",
    "                arr = preprocess(arr, mask, dtype=np.uint8)\n",
    "                arr[(arr != 10) & (arr != 14) & (arr != 45) & (arr != 49) & (arr != 43) & (arr != 44)] = 0\n",
    "                arr[arr == 10] = 1\n",
    "                arr[arr == 14] = 1\n",
    "                arr[arr == 45] = 2\n",
    "                arr[arr == 49] = 3\n",
    "                arr[arr == 43] = 4\n",
    "                arr[arr == 44] = 4\n",
    "                # arr[(arr != 10) & (arr != 14)] = 0\n",
    "                #arr[arr > 0] = 1\n",
    "                \n",
    "                if np.amax(arr) > 0:\n",
    "                    sample = f.create_group(\"sample_{}\".format(idx))\n",
    "                    \n",
    "                    sample.create_dataset(name='label', shape=arr.shape, data=arr, chunks=arr.shape,\n",
    "                                          compression='gzip', compression_opts=9, dtype=arr.dtype)\n",
    "                    \n",
    "                    arr = load_nii(img)\n",
    "                    arr = preprocess(arr, mask, normalize=True)\n",
    "                    sample.create_dataset(name='img', shape=arr.shape, data=arr, chunks=arr.shape,\n",
    "                                          compression='gzip', compression_opts=9, dtype=arr.dtype)\n",
    "                    \n",
    "                    arr = load_nii(teacher)\n",
    "                    arr = preprocess(arr, mask, forth_dim=True)\n",
    "                    sample.create_dataset(name='teacher', shape=arr.shape, data=arr, chunks=arr.shape,\n",
    "                                          compression='gzip', compression_opts=9, dtype=arr.dtype)\n",
    "                    \n",
    "                    idx += 1\n",
    "                pbar.update()"
   ]
  },
  {
   "cell_type": "code",
   "execution_count": null,
   "metadata": {},
   "outputs": [],
   "source": [
    "with open(ds_path + '.npy', 'wb') as f:\n",
    "    sample = {}\n",
    "    idx = 0\n",
    "    with tqdm(total=len(imgs_fpath), desc=\"Compressing\", unit=\"sample\") as pbar:\n",
    "        for i, (img, mask, label, teacher) in enumerate(zip(imgs_fpath, masks_fpath, labels_fpath, teacher_fpath)):\n",
    "                mask = load_nii(mask)\n",
    "                loc = find_objects(mask>0)[0]\n",
    "                mask = mask[loc]\n",
    "            \n",
    "                arr = load_nii(label)[loc]\n",
    "                arr = preprocess(arr, mask, dtype=np.uint8)\n",
    "                arr[(arr != 10) & (arr != 14) & (arr != 45) & (arr != 49) & (arr != 43) & (arr != 44)] = 0\n",
    "                arr[arr == 10] = 1\n",
    "                arr[arr == 14] = 1\n",
    "                arr[arr == 45] = 2\n",
    "                arr[arr == 49] = 3\n",
    "                arr[arr == 43] = 4\n",
    "                arr[arr == 44] = 4\n",
    "              \n",
    "                if np.amax(arr) > 0:\n",
    "                    sample[\"sample_{}\".format(idx)] = {}\n",
    "                    \n",
    "                    sample[\"sample_{}\".format(idx)]['label'] = arr\n",
    "\n",
    "                    arr = load_nii(img)[loc]\n",
    "                    arr = preprocess(arr, mask, normalize=True)\n",
    "                    sample[\"sample_{}\".format(idx)]['img'] = arr\n",
    "\n",
    "                    arr = load_nii(teacher)[loc]\n",
    "                    arr = preprocess(arr, mask, forth_dim=True)\n",
    "                    sample[\"sample_{}\".format(idx)]['teacher'] = arr\n",
    "                    \n",
    "                    idx += 1\n",
    "                pbar.update()\n",
    "    pickle.dump(sample, f, protocol=pickle.HIGHEST_PROTOCOL)"
   ]
  },
  {
   "cell_type": "code",
   "execution_count": null,
   "metadata": {},
   "outputs": [],
   "source": []
  }
 ],
 "metadata": {
  "kernelspec": {
   "display_name": "Python 3 (ipykernel)",
   "language": "python",
   "name": "python3"
  },
  "language_info": {
   "codemirror_mode": {
    "name": "ipython",
    "version": 3
   },
   "file_extension": ".py",
   "mimetype": "text/x-python",
   "name": "python",
   "nbconvert_exporter": "python",
   "pygments_lexer": "ipython3",
   "version": "3.9.6"
  }
 },
 "nbformat": 4,
 "nbformat_minor": 1
}
