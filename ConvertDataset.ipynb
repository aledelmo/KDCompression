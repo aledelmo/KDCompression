{
 "cells": [
  {
   "cell_type": "code",
   "execution_count": null,
   "metadata": {},
   "outputs": [],
   "source": [
    "%load_ext autoreload\n",
    "%autoreload 2\n",
    "\n",
    "import h5py\n",
    "h5py.get_config().track_order = True\n",
    "\n",
    "import glob\n",
    "import numpy as np\n",
    "import nibabel as nib\n",
    "\n",
    "import os.path\n",
    "from tqdm import tqdm\n",
    "\n",
    "import sys\n",
    "assert sys.version_info.major == 3, 'Not running on Python 3'\n",
    "\n",
    "from IPython.utils import io\n",
    "from IPython.core.interactiveshell import InteractiveShell\n",
    "InteractiveShell.ast_node_interactivity = \"all\"\n",
    "\n",
    "import logging\n",
    "logging.basicConfig(level=logging.INFO, stream=sys.stdout)"
   ]
  },
  {
   "cell_type": "code",
   "execution_count": null,
   "metadata": {
    "pycharm": {
     "name": "#%%"
    }
   },
   "outputs": [],
   "source": [
    "ds_path = \"/home/imag2/IMAG2_DL/KDCompression/Dataset/ds.h5\"\n",
    "\n",
    "img_dir = \"/home/imag2/IMAG2_DL/APMRI-DNN/Dataset/All\"\n",
    "teacher_dir = \"/home/imag2/IMAG2_DL/KDCompression/Dataset/Teacher/\"\n",
    "\n",
    "imgs_fpath = sorted(glob.glob(os.path.join(img_dir, '*[tT]2*.nii.gz')))\n",
    "masks_fpath = sorted(glob.glob(os.path.join(img_dir, '*[mM]ask*.nii.gz')))\n",
    "labels_fpath = sorted(glob.glob(os.path.join(img_dir, '*[sS]egmentation*.nii.gz')))\n",
    "teacher_fpath = sorted(glob.glob(os.path.join(teacher_dir, '*[tT]eacher*.nii.gz')))"
   ]
  },
  {
   "cell_type": "code",
   "execution_count": null,
   "metadata": {
    "pycharm": {
     "name": "#%%\n"
    }
   },
   "outputs": [],
   "source": [
    "def load_nii(f_name):\n",
    "    img = nib.load(f_name)\n",
    "    canonical_img = nib.as_closest_canonical(img)\n",
    "    return canonical_img.get_fdata()"
   ]
  },
  {
   "cell_type": "code",
   "execution_count": null,
   "metadata": {
    "pycharm": {
     "name": "#%%\n"
    }
   },
   "outputs": [],
   "source": [
    "with h5py.File(ds_path, 'a', libver='latest') as f:\n",
    "    with tqdm(total=len(imgs_fpath), desc=\"Compressing\", unit=\"sample\") as pbar:\n",
    "        for i, (img, mask, label, teacher) in enumerate(zip(imgs_fpath, masks_fpath, labels_fpath, teacher_fpath)):\n",
    "            with io.capture_output() as captured:\n",
    "                sample = f.create_group(\"sample_{}\".format(i))\n",
    "                arr = load_nii(img).astype(np.float32)\n",
    "                sample.create_dataset(name='img', shape=arr.shape, data=arr, chunks=arr.shape,\n",
    "                                      compression='gzip', compression_opts=9, dtype=arr.dtype)\n",
    "                arr = load_nii(mask).astype(np.uint8)\n",
    "                sample.create_dataset(name='mask', shape=arr.shape, data=arr, chunks=arr.shape,\n",
    "                                      compression='gzip', compression_opts=9, dtype=arr.dtype)\n",
    "                arr = load_nii(mask).astype(np.uint8)\n",
    "                sample.create_dataset(name='label', shape=arr.shape, data=arr, chunks=arr.shape,\n",
    "                                      compression='gzip', compression_opts=9, dtype=arr.dtype)\n",
    "                arr = load_nii(teacher).astype(np.float32)\n",
    "                sample.create_dataset(name='teacher', shape=arr.shape, data=arr, chunks=arr.shape,\n",
    "                                      compression='gzip', compression_opts=9, dtype=arr.dtype)\n",
    "                pbar.update()"
   ]
  }
 ],
 "metadata": {
  "kernelspec": {
   "display_name": "Python 3",
   "language": "python",
   "name": "python3"
  },
  "language_info": {
   "codemirror_mode": {
    "name": "ipython",
    "version": 3
   },
   "file_extension": ".py",
   "mimetype": "text/x-python",
   "name": "python",
   "nbconvert_exporter": "python",
   "pygments_lexer": "ipython3",
   "version": "3.9.2"
  }
 },
 "nbformat": 4,
 "nbformat_minor": 1
}
